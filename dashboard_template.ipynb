{
 "cells": [
  {
   "cell_type": "code",
   "execution_count": null,
   "id": "8e89a7d0",
   "metadata": {},
   "outputs": [],
   "source": [
    "# Import libraries\n",
    "import numpy as np\n",
    "import pandas as pd\n",
    "pd.set_option('display.max_columns', 100)\n",
    "\n",
    "from dashboard import Dashboard"
   ]
  },
  {
   "cell_type": "code",
   "execution_count": null,
   "id": "667dedbf",
   "metadata": {},
   "outputs": [],
   "source": [
    "# Import data; this csv is not stored in the repo\n",
    "data = pd.read_csv(\"your_data.csv\")"
   ]
  },
  {
   "cell_type": "code",
   "execution_count": null,
   "id": "106f679d",
   "metadata": {},
   "outputs": [],
   "source": [
    "# Instantiate dashboard\n",
    "dash = Dashboard()"
   ]
  },
  {
   "cell_type": "code",
   "execution_count": null,
   "id": "29a65847",
   "metadata": {},
   "outputs": [],
   "source": [
    "# Import data into dashboard\n",
    "dash.import_data(data)"
   ]
  },
  {
   "cell_type": "code",
   "execution_count": null,
   "id": "c6517aaa",
   "metadata": {},
   "outputs": [],
   "source": [
    "# choose segment of choice\n",
    "segment = \"Lead Source\""
   ]
  },
  {
   "cell_type": "code",
   "execution_count": null,
   "id": "97564456",
   "metadata": {},
   "outputs": [],
   "source": [
    "# Display conversion metrics\n",
    "dash.display_conversion(segment)"
   ]
  },
  {
   "cell_type": "code",
   "execution_count": null,
   "id": "a5aac0b4",
   "metadata": {},
   "outputs": [],
   "source": [
    "# Display profitability metrics\n",
    "dash.display_profitability(segment)"
   ]
  },
  {
   "cell_type": "code",
   "execution_count": null,
   "id": "fc579ddf",
   "metadata": {},
   "outputs": [],
   "source": [
    "# Calculate CAC\n",
    "dash.calculate_optimal_cac(segment)"
   ]
  }
 ],
 "metadata": {
  "kernelspec": {
   "display_name": "Python 3 (ipykernel)",
   "language": "python",
   "name": "python3"
  },
  "language_info": {
   "codemirror_mode": {
    "name": "ipython",
    "version": 3
   },
   "file_extension": ".py",
   "mimetype": "text/x-python",
   "name": "python",
   "nbconvert_exporter": "python",
   "pygments_lexer": "ipython3",
   "version": "3.9.17"
  }
 },
 "nbformat": 4,
 "nbformat_minor": 5
}
