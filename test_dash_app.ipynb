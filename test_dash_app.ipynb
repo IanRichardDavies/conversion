{
 "cells": [
  {
   "cell_type": "code",
   "execution_count": 1,
   "id": "479c2207",
   "metadata": {},
   "outputs": [
    {
     "name": "stderr",
     "output_type": "stream",
     "text": [
      "/home/irddavies/conversion/dash_app/dashviz/layout.py:8: UserWarning: \n",
      "The dash_html_components package is deprecated. Please replace\n",
      "`import dash_html_components as html` with `from dash import html`\n",
      "  import dash_html_components as html\n"
     ]
    }
   ],
   "source": [
    "from dash_app.director.director import Director"
   ]
  },
  {
   "cell_type": "code",
   "execution_count": 2,
   "id": "8fbd70ec",
   "metadata": {},
   "outputs": [],
   "source": [
    "director = Director()"
   ]
  },
  {
   "cell_type": "code",
   "execution_count": 3,
   "id": "0ad30014",
   "metadata": {},
   "outputs": [],
   "source": [
    "director.import_data()"
   ]
  },
  {
   "cell_type": "code",
   "execution_count": 4,
   "id": "c141512e",
   "metadata": {},
   "outputs": [
    {
     "data": {
      "text/html": [
       "<div>\n",
       "<style scoped>\n",
       "    .dataframe tbody tr th:only-of-type {\n",
       "        vertical-align: middle;\n",
       "    }\n",
       "\n",
       "    .dataframe tbody tr th {\n",
       "        vertical-align: top;\n",
       "    }\n",
       "\n",
       "    .dataframe thead th {\n",
       "        text-align: right;\n",
       "    }\n",
       "</style>\n",
       "<table border=\"1\" class=\"dataframe\">\n",
       "  <thead>\n",
       "    <tr style=\"text-align: right;\">\n",
       "      <th></th>\n",
       "      <th>record_id</th>\n",
       "      <th>policy_num</th>\n",
       "      <th>product_type</th>\n",
       "      <th>application_started</th>\n",
       "      <th>application_completed</th>\n",
       "      <th>application_approved</th>\n",
       "      <th>lead_source</th>\n",
       "      <th>overall</th>\n",
       "      <th>policy_purchased</th>\n",
       "      <th>num_premiums</th>\n",
       "      <th>monthly_premiums</th>\n",
       "      <th>gross_premiums</th>\n",
       "      <th>coverage</th>\n",
       "      <th>premium_class</th>\n",
       "      <th>user_gender</th>\n",
       "      <th>user_age</th>\n",
       "      <th>user_income</th>\n",
       "    </tr>\n",
       "  </thead>\n",
       "  <tbody>\n",
       "    <tr>\n",
       "      <th>0</th>\n",
       "      <td>13904858246</td>\n",
       "      <td>NaN</td>\n",
       "      <td>Term Life</td>\n",
       "      <td>1</td>\n",
       "      <td>0</td>\n",
       "      <td>0</td>\n",
       "      <td>SEO</td>\n",
       "      <td>Overall</td>\n",
       "      <td>0</td>\n",
       "      <td>0.0</td>\n",
       "      <td>0.0</td>\n",
       "      <td>0.0</td>\n",
       "      <td>NaN</td>\n",
       "      <td>None</td>\n",
       "      <td>M</td>\n",
       "      <td>61+</td>\n",
       "      <td>120k+</td>\n",
       "    </tr>\n",
       "    <tr>\n",
       "      <th>1</th>\n",
       "      <td>13804131625</td>\n",
       "      <td>NaN</td>\n",
       "      <td>Term Life</td>\n",
       "      <td>1</td>\n",
       "      <td>0</td>\n",
       "      <td>0</td>\n",
       "      <td>Direct</td>\n",
       "      <td>Overall</td>\n",
       "      <td>0</td>\n",
       "      <td>0.0</td>\n",
       "      <td>0.0</td>\n",
       "      <td>0.0</td>\n",
       "      <td>NaN</td>\n",
       "      <td>None</td>\n",
       "      <td>F</td>\n",
       "      <td>61+</td>\n",
       "      <td>Null</td>\n",
       "    </tr>\n",
       "    <tr>\n",
       "      <th>2</th>\n",
       "      <td>13541937300</td>\n",
       "      <td>NaN</td>\n",
       "      <td>Term Life</td>\n",
       "      <td>1</td>\n",
       "      <td>0</td>\n",
       "      <td>0</td>\n",
       "      <td>Direct</td>\n",
       "      <td>Overall</td>\n",
       "      <td>0</td>\n",
       "      <td>0.0</td>\n",
       "      <td>0.0</td>\n",
       "      <td>0.0</td>\n",
       "      <td>NaN</td>\n",
       "      <td>None</td>\n",
       "      <td>F</td>\n",
       "      <td>61+</td>\n",
       "      <td>Null</td>\n",
       "    </tr>\n",
       "    <tr>\n",
       "      <th>3</th>\n",
       "      <td>13899560824</td>\n",
       "      <td>NaN</td>\n",
       "      <td>Term Life</td>\n",
       "      <td>1</td>\n",
       "      <td>0</td>\n",
       "      <td>0</td>\n",
       "      <td>SEO</td>\n",
       "      <td>Overall</td>\n",
       "      <td>0</td>\n",
       "      <td>0.0</td>\n",
       "      <td>0.0</td>\n",
       "      <td>0.0</td>\n",
       "      <td>NaN</td>\n",
       "      <td>None</td>\n",
       "      <td>M</td>\n",
       "      <td>61+</td>\n",
       "      <td>Null</td>\n",
       "    </tr>\n",
       "    <tr>\n",
       "      <th>4</th>\n",
       "      <td>13578581135</td>\n",
       "      <td>NaN</td>\n",
       "      <td>Critical Illness</td>\n",
       "      <td>1</td>\n",
       "      <td>0</td>\n",
       "      <td>0</td>\n",
       "      <td>Direct</td>\n",
       "      <td>Overall</td>\n",
       "      <td>0</td>\n",
       "      <td>0.0</td>\n",
       "      <td>0.0</td>\n",
       "      <td>0.0</td>\n",
       "      <td>NaN</td>\n",
       "      <td>None</td>\n",
       "      <td>F</td>\n",
       "      <td>61+</td>\n",
       "      <td>Null</td>\n",
       "    </tr>\n",
       "  </tbody>\n",
       "</table>\n",
       "</div>"
      ],
      "text/plain": [
       "     record_id  policy_num      product_type  application_started  \\\n",
       "0  13904858246         NaN         Term Life                    1   \n",
       "1  13804131625         NaN         Term Life                    1   \n",
       "2  13541937300         NaN         Term Life                    1   \n",
       "3  13899560824         NaN         Term Life                    1   \n",
       "4  13578581135         NaN  Critical Illness                    1   \n",
       "\n",
       "   application_completed  application_approved lead_source  overall  \\\n",
       "0                      0                     0         SEO  Overall   \n",
       "1                      0                     0      Direct  Overall   \n",
       "2                      0                     0      Direct  Overall   \n",
       "3                      0                     0         SEO  Overall   \n",
       "4                      0                     0      Direct  Overall   \n",
       "\n",
       "   policy_purchased  num_premiums  monthly_premiums  gross_premiums  coverage  \\\n",
       "0                 0           0.0               0.0             0.0       NaN   \n",
       "1                 0           0.0               0.0             0.0       NaN   \n",
       "2                 0           0.0               0.0             0.0       NaN   \n",
       "3                 0           0.0               0.0             0.0       NaN   \n",
       "4                 0           0.0               0.0             0.0       NaN   \n",
       "\n",
       "  premium_class user_gender user_age user_income  \n",
       "0          None           M      61+       120k+  \n",
       "1          None           F      61+        Null  \n",
       "2          None           F      61+        Null  \n",
       "3          None           M      61+        Null  \n",
       "4          None           F      61+        Null  "
      ]
     },
     "execution_count": 4,
     "metadata": {},
     "output_type": "execute_result"
    }
   ],
   "source": [
    "director.data.head()"
   ]
  },
  {
   "cell_type": "code",
   "execution_count": 5,
   "id": "1b68cb17",
   "metadata": {},
   "outputs": [],
   "source": [
    "director.transform()"
   ]
  },
  {
   "cell_type": "code",
   "execution_count": 6,
   "id": "444da583",
   "metadata": {},
   "outputs": [
    {
     "name": "stdout",
     "output_type": "stream",
     "text": [
      "Dash app running on http://127.0.0.1:8010/\n"
     ]
    },
    {
     "data": {
      "application/javascript": [
       "window.open('http://127.0.0.1:8010/')"
      ],
      "text/plain": [
       "<IPython.core.display.Javascript object>"
      ]
     },
     "metadata": {},
     "output_type": "display_data"
    },
    {
     "name": "stdout",
     "output_type": "stream",
     "text": [
      "Dash app running on http://127.0.0.1:8010/\n"
     ]
    }
   ],
   "source": [
    "director.visualize()"
   ]
  },
  {
   "cell_type": "code",
   "execution_count": null,
   "id": "e1d74256",
   "metadata": {},
   "outputs": [],
   "source": []
  }
 ],
 "metadata": {
  "kernelspec": {
   "display_name": "Python 3 (ipykernel)",
   "language": "python",
   "name": "python3"
  },
  "language_info": {
   "codemirror_mode": {
    "name": "ipython",
    "version": 3
   },
   "file_extension": ".py",
   "mimetype": "text/x-python",
   "name": "python",
   "nbconvert_exporter": "python",
   "pygments_lexer": "ipython3",
   "version": "3.9.17"
  }
 },
 "nbformat": 4,
 "nbformat_minor": 5
}
